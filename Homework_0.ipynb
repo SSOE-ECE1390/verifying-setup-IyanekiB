{
 "cells": [
  {
   "cell_type": "markdown",
   "metadata": {},
   "source": [
    "# <font style=\"color:black\">Lecture 1: Homework Problem</font>\n",
    "\n",
    "In this first homework set, I want you to make sure that you can use GitHub, MS Code, and OpenCV.\n",
    "You should (already to be able to read this document), clone the Github classroom assignment and edit it in VS Code.  In this python notebook, do the following:\n",
    "\n",
    "* Load an (Grayscale) image  (‘Data/Apollo_11_Launch.jpg’)\n",
    "* View image\n",
    "* Crop image\n",
    "* Edit brightness of image\n",
    "* Rotate image\n",
    "* Save modified image"
   ]
  },
  {
   "cell_type": "code",
   "execution_count": 1,
   "metadata": {},
   "outputs": [],
   "source": [
    "# Import openCV\n",
    "import cv2\n"
   ]
  },
  {
   "cell_type": "code",
   "execution_count": 2,
   "metadata": {},
   "outputs": [],
   "source": [
    "\n",
    "# Load a Grayscale image\n",
    "image = cv2.imread(\"Data/Apollo_11_Launch.jpg\", cv2.IMREAD_GRAYSCALE)"
   ]
  },
  {
   "cell_type": "code",
   "execution_count": null,
   "metadata": {},
   "outputs": [],
   "source": [
    "# View the image\n",
    "cv2.imshow(\"Apollo 11 Launch\", image)\n",
    "cv2.waitKey(0)\n",
    "cv2.destroyAllWindows()"
   ]
  },
  {
   "cell_type": "code",
   "execution_count": null,
   "metadata": {},
   "outputs": [],
   "source": [
    "# Crop the image\n",
    "x, y, h, w = 200, 200, 300, 300\n",
    "cropped_image = image[y:y+h, x: x+h] # Crop the image using array slicing\n",
    "cv2.imshow(\"Cropped Image\", cropped_image)\n",
    "cv2.waitKey(0)\n",
    "cv2.destroyAllWindows()"
   ]
  },
  {
   "cell_type": "code",
   "execution_count": 11,
   "metadata": {},
   "outputs": [],
   "source": [
    "# Edit brightness of image\n",
    "brightness_value = 90 # Adjust brighntness by adding a constant value\n",
    "brightened_image = cv2.add(image, brightness_value) # Increase brightness\n",
    "cv2.imshow(\"Original Image\", image)\n",
    "cv2.imshow(\"Brightened Image\", brightened_image)\n",
    "cv2.waitKey(0)\n",
    "cv2.destroyAllWindows()\n",
    " "
   ]
  },
  {
   "cell_type": "code",
   "execution_count": 9,
   "metadata": {},
   "outputs": [],
   "source": [
    "# Rotate the image\n",
    "(h, w) = image.shape[:2]    # Get the dimensions\n",
    "center = (w//4, h //4)      # Define the center of rotation\n",
    "angle = 45                  # Angle of rotation\n",
    "scale = 1.0                 # Scale factor    \n",
    "rotated_image = cv2.getRotationMatrix2D(center, angle, scale)  # Get the rotation matrix\n",
    "rotated_image = cv2.warpAffine(image, rotated_image, (w, h))   # Perform the rotation\n",
    "cv2.imshow(\"Rotated Image\", rotated_image)\n",
    "cv2.waitKey(0)\n",
    "cv2.destroyAllWindows()"
   ]
  },
  {
   "cell_type": "code",
   "execution_count": 12,
   "metadata": {},
   "outputs": [
    {
     "data": {
      "text/plain": [
       "True"
      ]
     },
     "execution_count": 12,
     "metadata": {},
     "output_type": "execute_result"
    }
   ],
   "source": [
    "# Save the modified image(s)\n",
    "cv2.imwrite(\"Data/Apollo_11_Launch_Cropped.jpg\", cropped_image)\n",
    "cv2.imwrite(\"Data/Apollo_11_Launch_Brightened.jpg\", brightened_image)\n",
    "cv2.imwrite(\"Data/Apollo_11_Launch_Rotated.jpg\", rotated_image)"
   ]
  }
 ],
 "metadata": {
  "kernelspec": {
   "display_name": "ECE1390",
   "language": "python",
   "name": "python3"
  },
  "language_info": {
   "codemirror_mode": {
    "name": "ipython",
    "version": 3
   },
   "file_extension": ".py",
   "mimetype": "text/x-python",
   "name": "python",
   "nbconvert_exporter": "python",
   "pygments_lexer": "ipython3",
   "version": "3.12.11"
  }
 },
 "nbformat": 4,
 "nbformat_minor": 2
}
